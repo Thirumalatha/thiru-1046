{
  "nbformat": 4,
  "nbformat_minor": 0,
  "metadata": {
    "colab": {
      "provenance": [],
      "authorship_tag": "ABX9TyMggepQMf8pPFOwXFARvBlH",
      "include_colab_link": true
    },
    "kernelspec": {
      "name": "python3",
      "display_name": "Python 3"
    },
    "language_info": {
      "name": "python"
    }
  },
  "cells": [
    {
      "cell_type": "markdown",
      "metadata": {
        "id": "view-in-github",
        "colab_type": "text"
      },
      "source": [
        "<a href=\"https://colab.research.google.com/github/Thirumalatha/thiru-1046/blob/main/weather_modeling_increment_model.ipynb\" target=\"_parent\"><img src=\"https://colab.research.google.com/assets/colab-badge.svg\" alt=\"Open In Colab\"/></a>"
      ]
    },
    {
      "cell_type": "code",
      "execution_count": 3,
      "metadata": {
        "colab": {
          "base_uri": "https://localhost:8080/"
        },
        "id": "OK_RJIi8-IB5",
        "outputId": "996fa813-3b28-4caa-95ab-2f95e7ca8e24"
      },
      "outputs": [
        {
          "output_type": "stream",
          "name": "stdout",
          "text": [
            "Running Waterfall Model...\n",
            "Waterfall Model Coefficients (a, b, c): [ 2.00407235 -5.09918177 19.74061824]\n",
            "Sample Predictions (First 5 Days): [19.74061824 18.37944033 17.38631978 16.76125659 16.50425077]\n",
            "\n",
            "Running Incremental Model...\n",
            "Initial Linear Model Coefficients (m, c): [  55.02298878 -277.83376124]\n",
            "Sample Linear Predictions (First 5 Days): [-277.83376124 -261.16012828 -244.48649531 -227.81286235 -211.13922939]\n",
            "Refined Quadratic Model Coefficients (a, b, c): [ 2.00407235 -5.09918177 19.74061824]\n",
            "Sample Quadratic Predictions (First 5 Days): [19.74061824 18.37944033 17.38631978 16.76125659 16.50425077]\n"
          ]
        }
      ],
      "source": [
        "import numpy as np\n",
        "\n",
        "# Define the weather data collection phase (Waterfall Model)\n",
        "def collect_weather_data():\n",
        "    # Simulating synthetic data for weather (temperature vs. time)\n",
        "    np.random.seed(42)\n",
        "    days = np.linspace(0, 30, 100)  # 30 days of data\n",
        "    temperatures = 2 * days**2 - 5 * days + 20 + np.random.normal(0, 5, days.shape)\n",
        "    return days, temperatures\n",
        "\n",
        "# Define the training phase (Quadratic Model Fitting)\n",
        "def train_model(days, temperatures):\n",
        "    # Create a quadratic feature for days\n",
        "    X = np.column_stack((days**2, days, np.ones(days.shape)))  # X = [x^2, x, 1] for quadratic model\n",
        "    coefs = np.linalg.lstsq(X, temperatures, rcond=None)[0]  # Solve for a, b, c using least squares\n",
        "    return coefs\n",
        "\n",
        "# Define the prediction phase\n",
        "def predict_weather(days, coefs):\n",
        "    # Use the trained model to predict temperatures\n",
        "    a, b, c = coefs\n",
        "    predicted_temps = a * days**2 + b * days + c\n",
        "    return predicted_temps\n",
        "\n",
        "# Waterfall Model Implementation\n",
        "def weather_model_waterfall():\n",
        "    # Step 1: Collect Data\n",
        "    days, temperatures = collect_weather_data()\n",
        "\n",
        "    # Step 2: Train the Quadratic Model\n",
        "    coefs = train_model(days, temperatures)\n",
        "\n",
        "    # Step 3: Predict\n",
        "    predicted_temps = predict_weather(days, coefs)\n",
        "\n",
        "    print(\"Waterfall Model Coefficients (a, b, c):\", coefs)\n",
        "    print(\"Sample Predictions (First 5 Days):\", predicted_temps[:5])\n",
        "\n",
        "# Incremental Model Implementation (step by step refinement)\n",
        "def weather_model_incremental():\n",
        "    # Step 1: Collect Data\n",
        "    days, temperatures = collect_weather_data()\n",
        "\n",
        "    # Step 2: Initial prediction (assuming linear model first, then refine to quadratic)\n",
        "    X = np.column_stack((days, np.ones(days.shape)))  # Linear model X = [x, 1]\n",
        "    linear_coefs = np.linalg.lstsq(X, temperatures, rcond=None)[0]\n",
        "    predicted_linear = linear_coefs[0] * days + linear_coefs[1]\n",
        "\n",
        "    print(\"Initial Linear Model Coefficients (m, c):\", linear_coefs)\n",
        "    print(\"Sample Linear Predictions (First 5 Days):\", predicted_linear[:5])\n",
        "\n",
        "    # Step 3: Refine to quadratic model\n",
        "    coefs = train_model(days, temperatures)\n",
        "    predicted_quadratic = predict_weather(days, coefs)\n",
        "\n",
        "    print(\"Refined Quadratic Model Coefficients (a, b, c):\", coefs)\n",
        "    print(\"Sample Quadratic Predictions (First 5 Days):\", predicted_quadratic[:5])\n",
        "\n",
        "# Main Execution\n",
        "if __name__ == \"__main__\":\n",
        "    print(\"Running Waterfall Model...\")\n",
        "    weather_model_waterfall()\n",
        "\n",
        "    print(\"\\nRunning Incremental Model...\")\n",
        "    weather_model_incremental()\n"
      ]
    }
  ]
}